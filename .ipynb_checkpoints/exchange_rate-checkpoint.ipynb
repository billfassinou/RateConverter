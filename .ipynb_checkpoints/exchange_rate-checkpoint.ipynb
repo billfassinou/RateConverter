{
 "cells": [
  {
   "cell_type": "code",
   "execution_count": 1,
   "id": "f761ac7e",
   "metadata": {},
   "outputs": [],
   "source": [
    "import json\n",
    "import requests\n",
    "from bs4 import BeautifulSoup"
   ]
  },
  {
   "cell_type": "code",
   "execution_count": 2,
   "id": "ee267576",
   "metadata": {},
   "outputs": [],
   "source": [
    "url = 'https://www.xe.com/fr/currencyconverter/convert/?Amount=2&From=EUR&To=XOF'"
   ]
  },
  {
   "cell_type": "code",
   "execution_count": 3,
   "id": "c66b4508",
   "metadata": {},
   "outputs": [],
   "source": [
    "def get_soup(url):\n",
    "    \n",
    "    \"\"\"\n",
    "    Cette fonction récupère la soup du site www.xe.com et retourne le résultat .\n",
    "     \n",
    "    Parameters:\n",
    "    url (str) : l'url du site cible\n",
    "    \n",
    "    Returns:\n",
    "    soup : le code html du site\n",
    "    \"\"\"\n",
    "    response = requests.get(url)\n",
    "    soup = BeautifulSoup(response.content, \"html.parser\")\n",
    "    return soup"
   ]
  },
  {
   "cell_type": "code",
   "execution_count": 4,
   "id": "5ca5e802",
   "metadata": {},
   "outputs": [],
   "source": [
    "def get_donnee_converties(url):\n",
    "    \n",
    "    \"\"\"\n",
    "    Cette fonction récupère les données nécessaires pour la requête sur l'API .\n",
    "     \n",
    "    Parameters:\n",
    "    url (str) : l'url du site cible\n",
    "    \n",
    "    Returns:\n",
    "    data (json): les données récupérées sous forme de json\n",
    "    \"\"\"\n",
    "    # Appel de la fonction get_soup\n",
    "    soup = get_soup(url)\n",
    "    \n",
    "    elements = soup.find_all('main', class_='sc-d5cf72bb-3 lmBDhC')\n",
    "    data = []\n",
    "    # Recherche des données à récupérer grâce à leurs classes ou id\n",
    "    for elt in elements:\n",
    "        montant_entres = elt.find('div', class_='sc-73a056d4-0 sc-b8d6d0bc-0 eVknbT eoNUEg').text\n",
    "        pays = elt.find('button', class_='sc-73a056d4-0 sc-e6a0deed-3 eVknbT bgbzIj combobox-input').text\n",
    "        xof = elt.find('div', id='midmarketToCurrency').text\n",
    "        montant_sortis = elt.find('p', class_='sc-e08d6cef-1 fwpLse').text\n",
    "        data.append({\n",
    "            'Montant_entres': montant_entres,\n",
    "            'Pays': pays,\n",
    "            'XOF': xof,\n",
    "            'Montant_sortis': montant_sortis\n",
    "        })\n",
    "    \n",
    "    return data"
   ]
  },
  {
   "cell_type": "code",
   "execution_count": 5,
   "id": "5a26bc38",
   "metadata": {},
   "outputs": [
    {
     "name": "stdout",
     "output_type": "stream",
     "text": [
      "[{'Montant_entres': '2 €', 'Pays': 'EUR – Euro', 'XOF': 'XOF – Franc CFA', 'Montant_sortis': '1\\u202f311,914 CFA Francs'}]\n"
     ]
    }
   ],
   "source": [
    "# Appel de la fonction get_donnee_converties pour tester l'url\n",
    "data = get_donnee_converties(url)\n",
    "print(data)"
   ]
  },
  {
   "cell_type": "code",
   "execution_count": 6,
   "id": "508608dc",
   "metadata": {},
   "outputs": [],
   "source": [
    "def get_data_per_montant(montant):\n",
    "    \n",
    "    \"\"\"\n",
    "    Cette fonction récupère les différentes convertions d'un intervalle du montant voulu .\n",
    "     \n",
    "    Parameters:\n",
    "    montant (int) : l'intervalle du montant à convertir\n",
    "    \n",
    "    Returns:\n",
    "    data (json): les données récupérées sous forme de json\n",
    "    \"\"\"\n",
    "    \n",
    "    all_data = []\n",
    "    for i in range(1, montant + 1):\n",
    "        url = f'https://www.xe.com/fr/currencyconverter/convert/?Amount={i}&From=EUR&To=XOF'\n",
    "        data = get_donnee_converties(url)\n",
    "        all_data.extend(data)\n",
    "    return json.dumps(all_data, ensure_ascii=False)"
   ]
  },
  {
   "cell_type": "code",
   "execution_count": 7,
   "id": "fe7bc9c3",
   "metadata": {},
   "outputs": [
    {
     "name": "stdout",
     "output_type": "stream",
     "text": [
      "[{\"Montant_entres\": \"1 €\", \"Pays\": \"EUR – Euro\", \"XOF\": \"XOF – Franc CFA\", \"Montant_sortis\": \"655,957 CFA Francs\"}, {\"Montant_entres\": \"2 €\", \"Pays\": \"EUR – Euro\", \"XOF\": \"XOF – Franc CFA\", \"Montant_sortis\": \"1 311,914 CFA Francs\"}, {\"Montant_entres\": \"3 €\", \"Pays\": \"EUR – Euro\", \"XOF\": \"XOF – Franc CFA\", \"Montant_sortis\": \"1 967,871 CFA Francs\"}, {\"Montant_entres\": \"4 €\", \"Pays\": \"EUR – Euro\", \"XOF\": \"XOF – Franc CFA\", \"Montant_sortis\": \"2 623,828 CFA Francs\"}, {\"Montant_entres\": \"5 €\", \"Pays\": \"EUR – Euro\", \"XOF\": \"XOF – Franc CFA\", \"Montant_sortis\": \"3 279,785 CFA Francs\"}]\n"
     ]
    }
   ],
   "source": [
    "# Récupération de la conversion de 1£ à 5£ en FCFA\n",
    "montant = get_data_per_montant(5)\n",
    "print(montant)\n"
   ]
  },
  {
   "cell_type": "code",
   "execution_count": null,
   "id": "6d09ca37",
   "metadata": {},
   "outputs": [],
   "source": []
  }
 ],
 "metadata": {
  "kernelspec": {
   "display_name": "Python 3 (ipykernel)",
   "language": "python",
   "name": "python3"
  },
  "language_info": {
   "codemirror_mode": {
    "name": "ipython",
    "version": 3
   },
   "file_extension": ".py",
   "mimetype": "text/x-python",
   "name": "python",
   "nbconvert_exporter": "python",
   "pygments_lexer": "ipython3",
   "version": "3.10.9"
  }
 },
 "nbformat": 4,
 "nbformat_minor": 5
}
